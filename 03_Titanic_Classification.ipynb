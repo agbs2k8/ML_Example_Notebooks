{
 "cells": [
  {
   "cell_type": "code",
   "execution_count": 1,
   "metadata": {},
   "outputs": [],
   "source": [
    "import os\n",
    "import sys\n",
    "import numpy as np\n",
    "import pandas as pd\n",
    "import seaborn as sns\n",
    "import sklearn\n",
    "import scipy\n",
    "\n",
    "import matplotlib\n",
    "import matplotlib.pyplot as plt\n",
    "%matplotlib inline\n",
    "\n",
    "import toolbelt\n",
    "\n",
    "from sklearn.preprocessing import StandardScaler\n",
    "from sklearn.model_selection import train_test_split\n",
    "from sklearn.ensemble import RandomForestClassifier"
   ]
  },
  {
   "cell_type": "code",
   "execution_count": 2,
   "metadata": {},
   "outputs": [],
   "source": [
    "def make_dataset_v1(_df, include_y=True):\n",
    "    # Fill Our Null Age with the mean from the training set\n",
    "    _df.Age = _df.Age.fillna(29.69911764705882)\n",
    "    # Fill Missing Embarked with most common value:\n",
    "    _df.Embarked = _df.Embarked.fillna('S')\n",
    "    # Create new column for \"no_cabin\"\n",
    "    _df['no_cabin'] = _df.Cabin.isnull().astype(int)\n",
    "    # Create new column for those with 0 fare\n",
    "    _df['zero_fare'] = (_df.Fare<1).astype(int)\n",
    "    # Fill Zero Fares with the mean of non-zero fares\n",
    "    _df.Fare = _df.Fare.apply(lambda x: x if x!=0 else 32.75564988584471)\n",
    "    # SibSp & Parch to Categories\n",
    "    family_counts = {0: \"0_1\", 1: \"0_1\", 2: \"2_3\", 3: \"2_3\"}\n",
    "    _df.SibSp = _df.SibSp.apply(lambda x: family_counts[x] if x in family_counts.keys() else \"4+\")\n",
    "    _df.Parch = _df.Parch.apply(lambda x: family_counts[x] if x in family_counts.keys() else \"4+\")\n",
    "    # Log of Fare\n",
    "    _df.Fare = np.log(_df.Fare)\n",
    "    # Categorical Columns\n",
    "    X_cat = [\"Embarked\", \"no_cabin\", \"zero_fare\", \"Sex\", \"Pclass\", \"SibSp\", \"Parch\"]\n",
    "    _df.Pclass = _df.Pclass.astype(str)\n",
    "    X_cont = [\"Age\", \"Fare\"]\n",
    "    \n",
    "    dfX = pd.get_dummies(_df[X_cat + X_cont], drop_first=True)\n",
    "    \n",
    "    if include_y:\n",
    "        if \"Survived\" in _df.columns.values:\n",
    "            return dfX.values, _df.Survived.values, list(dfX.columns.values)\n",
    "        else:\n",
    "            return dfX.values, None, list(dfX.columns.values)\n",
    "    else:\n",
    "        return X, list(dfX.columns.values)"
   ]
  },
  {
   "cell_type": "code",
   "execution_count": 3,
   "metadata": {},
   "outputs": [
    {
     "data": {
      "text/plain": [
       "((891, 13), (891,), 0.3838383838383838)"
      ]
     },
     "execution_count": 3,
     "metadata": {},
     "output_type": "execute_result"
    }
   ],
   "source": [
    "X, y, cols = make_dataset_v1(pd.read_csv('./titanic/train.csv', index_col='PassengerId'))\n",
    "X.shape, y.shape, np.mean(y)"
   ]
  },
  {
   "cell_type": "code",
   "execution_count": 4,
   "metadata": {},
   "outputs": [],
   "source": [
    "X_train_raw, X_test_raw, y_train, y_test = train_test_split(X, y, test_size=0.25, random_state=42)"
   ]
  },
  {
   "cell_type": "code",
   "execution_count": 5,
   "metadata": {},
   "outputs": [],
   "source": [
    "scaler = StandardScaler()\n",
    "scaler.fit(X_train_raw)\n",
    "X_train = scaler.transform(X_train_raw)\n",
    "X_test = scaler.transform(X_test_raw)"
   ]
  },
  {
   "cell_type": "code",
   "execution_count": 6,
   "metadata": {},
   "outputs": [
    {
     "name": "stdout",
     "output_type": "stream",
     "text": [
      "   A1\tA0\n",
      "P1[64\t26\t]\n",
      "P0[25\t108\t]\n",
      "\n",
      "precision: 0.7111111111111111\n",
      "recall: 0.7191011235955056\n",
      "log loss: 0.4629708186371013\n",
      "type1 error: 26\n"
     ]
    }
   ],
   "source": [
    "rfc = RandomForestClassifier(n_estimators=512, criterion='entropy', n_jobs=-1, random_state=42)\n",
    "rfc.fit(X_train, y_train)\n",
    "pred_y = rfc.predict(X_test)\n",
    "\n",
    "cm = sklearn.metrics.confusion_matrix(y_test, pred_y)\n",
    "tn, fp, fn, tp = cm.ravel()\n",
    "print('   A1\\tA0\\nP1[{}\\t{}\\t]\\nP0[{}\\t{}\\t]'.format(tp, fp, fn, tn), end='\\n\\n')\n",
    "print(f'precision: {tp/(tp+fp)}')\n",
    "print(f'recall: {tp/(tp+fn)}')\n",
    "print(f'log loss: {sklearn.metrics.log_loss(y_test, rfc.predict_proba(X_test))}')\n",
    "print(f'type1 error: {fp}')"
   ]
  },
  {
   "cell_type": "code",
   "execution_count": 7,
   "metadata": {},
   "outputs": [
    {
     "data": {
      "text/html": [
       "<div>\n",
       "<style scoped>\n",
       "    .dataframe tbody tr th:only-of-type {\n",
       "        vertical-align: middle;\n",
       "    }\n",
       "\n",
       "    .dataframe tbody tr th {\n",
       "        vertical-align: top;\n",
       "    }\n",
       "\n",
       "    .dataframe thead th {\n",
       "        text-align: right;\n",
       "    }\n",
       "</style>\n",
       "<table border=\"1\" class=\"dataframe\">\n",
       "  <thead>\n",
       "    <tr style=\"text-align: right;\">\n",
       "      <th></th>\n",
       "      <th>Feature</th>\n",
       "      <th>Importance</th>\n",
       "    </tr>\n",
       "  </thead>\n",
       "  <tbody>\n",
       "    <tr>\n",
       "      <th>2</th>\n",
       "      <td>Age</td>\n",
       "      <td>0.289975</td>\n",
       "    </tr>\n",
       "    <tr>\n",
       "      <th>3</th>\n",
       "      <td>Fare</td>\n",
       "      <td>0.281213</td>\n",
       "    </tr>\n",
       "    <tr>\n",
       "      <th>6</th>\n",
       "      <td>Sex_male</td>\n",
       "      <td>0.227221</td>\n",
       "    </tr>\n",
       "    <tr>\n",
       "      <th>8</th>\n",
       "      <td>Pclass_3</td>\n",
       "      <td>0.053032</td>\n",
       "    </tr>\n",
       "    <tr>\n",
       "      <th>0</th>\n",
       "      <td>no_cabin</td>\n",
       "      <td>0.038697</td>\n",
       "    </tr>\n",
       "    <tr>\n",
       "      <th>5</th>\n",
       "      <td>Embarked_S</td>\n",
       "      <td>0.023610</td>\n",
       "    </tr>\n",
       "    <tr>\n",
       "      <th>7</th>\n",
       "      <td>Pclass_2</td>\n",
       "      <td>0.020134</td>\n",
       "    </tr>\n",
       "    <tr>\n",
       "      <th>11</th>\n",
       "      <td>Parch_2_3</td>\n",
       "      <td>0.017678</td>\n",
       "    </tr>\n",
       "    <tr>\n",
       "      <th>9</th>\n",
       "      <td>SibSp_2_3</td>\n",
       "      <td>0.013353</td>\n",
       "    </tr>\n",
       "    <tr>\n",
       "      <th>10</th>\n",
       "      <td>SibSp_4+</td>\n",
       "      <td>0.011790</td>\n",
       "    </tr>\n",
       "    <tr>\n",
       "      <th>4</th>\n",
       "      <td>Embarked_Q</td>\n",
       "      <td>0.010406</td>\n",
       "    </tr>\n",
       "    <tr>\n",
       "      <th>1</th>\n",
       "      <td>zero_fare</td>\n",
       "      <td>0.007321</td>\n",
       "    </tr>\n",
       "    <tr>\n",
       "      <th>12</th>\n",
       "      <td>Parch_4+</td>\n",
       "      <td>0.005571</td>\n",
       "    </tr>\n",
       "  </tbody>\n",
       "</table>\n",
       "</div>"
      ],
      "text/plain": [
       "       Feature  Importance\n",
       "2          Age    0.289975\n",
       "3         Fare    0.281213\n",
       "6     Sex_male    0.227221\n",
       "8     Pclass_3    0.053032\n",
       "0     no_cabin    0.038697\n",
       "5   Embarked_S    0.023610\n",
       "7     Pclass_2    0.020134\n",
       "11   Parch_2_3    0.017678\n",
       "9    SibSp_2_3    0.013353\n",
       "10    SibSp_4+    0.011790\n",
       "4   Embarked_Q    0.010406\n",
       "1    zero_fare    0.007321\n",
       "12    Parch_4+    0.005571"
      ]
     },
     "execution_count": 7,
     "metadata": {},
     "output_type": "execute_result"
    }
   ],
   "source": [
    "important_features = pd.DataFrame([x for x in zip(cols, rfc.feature_importances_)], columns=['Feature', 'Importance']).sort_values(by='Importance', ascending=False)\n",
    "important_features"
   ]
  },
  {
   "cell_type": "markdown",
   "metadata": {},
   "source": [
    "# Should we structure our data differently?"
   ]
  },
  {
   "cell_type": "code",
   "execution_count": 8,
   "metadata": {},
   "outputs": [],
   "source": [
    "def make_dataset_v2(_df, include_y=True):\n",
    "    # Fill Our Null Age with the mean from the training set\n",
    "    _df.Age = _df.Age.fillna(29.69911764705882)\n",
    "    # Fill Missing Embarked with most common value:\n",
    "    _df.Embarked = _df.Embarked.fillna('S')\n",
    "    # Create new column for \"no_cabin\"\n",
    "    _df['no_cabin'] = _df.Cabin.isnull().astype(int)\n",
    "    \n",
    "    #### CHANGE #####\n",
    "    # Create new column for those with 0 fare\n",
    "    #_df['zero_fare'] = (_df.Fare<1).astype(int)\n",
    "    # Fill Zero Fares with the mean of non-zero fares\n",
    "    #_df.Fare = _df.Fare.apply(lambda x: x if x!=0 else 32.75564988584471)\n",
    "    \n",
    "    \n",
    "    # SibSp & Parch to Categories\n",
    "    #family_counts = {0: \"0_1\", 1: \"0_1\", 2: \"2_3\", 3: \"2_3\"}\n",
    "    #_df.SibSp = _df.SibSp.apply(lambda x: family_counts[x] if x in family_counts.keys() else \"4+\")\n",
    "    #_df.Parch = _df.Parch.apply(lambda x: family_counts[x] if x in family_counts.keys() else \"4+\")\n",
    "    \n",
    "    # Log+1 of Fare\n",
    "    _df.Fare = np.log1p(_df.Fare)\n",
    "    ##############\n",
    "    \n",
    "    # Categorical Columns\n",
    "    X_cat = [\"Embarked\", \"no_cabin\", \"Sex\", \"Pclass\", ]\n",
    "    _df.Pclass = _df.Pclass.astype(str)\n",
    "    X_cont = [\"Age\", \"Fare\", \"SibSp\", \"Parch\"]\n",
    "    \n",
    "    dfX = pd.get_dummies(_df[X_cat + X_cont], drop_first=True)\n",
    "    \n",
    "    if include_y:\n",
    "        if \"Survived\" in _df.columns.values:\n",
    "            return dfX.values, _df.Survived.values, list(dfX.columns.values)\n",
    "        else:\n",
    "            return dfX.values, None, list(dfX.columns.values)\n",
    "    else:\n",
    "        return X, list(dfX.columns.values)"
   ]
  },
  {
   "cell_type": "code",
   "execution_count": 9,
   "metadata": {},
   "outputs": [
    {
     "data": {
      "text/plain": [
       "((891, 10), (891,), 0.3838383838383838)"
      ]
     },
     "execution_count": 9,
     "metadata": {},
     "output_type": "execute_result"
    }
   ],
   "source": [
    "X2, y2, cols2 = make_dataset_v2(pd.read_csv('./titanic/train.csv', index_col='PassengerId'))\n",
    "X2.shape, y2.shape, np.mean(y2)"
   ]
  },
  {
   "cell_type": "code",
   "execution_count": 10,
   "metadata": {},
   "outputs": [],
   "source": [
    "X_train_raw2, X_test_raw2, y_train2, y_test2 = train_test_split(X2, y2, test_size=0.25, random_state=42)\n",
    "scaler2 = StandardScaler()\n",
    "scaler2.fit(X_train_raw2)\n",
    "X_train2 = scaler2.transform(X_train_raw2)\n",
    "X_test2 = scaler2.transform(X_test_raw2)"
   ]
  },
  {
   "cell_type": "code",
   "execution_count": 11,
   "metadata": {},
   "outputs": [
    {
     "name": "stdout",
     "output_type": "stream",
     "text": [
      "   A1\tA0\n",
      "P1[64\t22\t]\n",
      "P0[25\t112\t]\n",
      "\n",
      "precision: 0.7441860465116279\n",
      "recall: 0.7191011235955056\n",
      "log loss: 0.44518239374567853\n",
      "type1 error: 22\n"
     ]
    }
   ],
   "source": [
    "rfc = RandomForestClassifier(n_estimators=512, criterion='entropy', n_jobs=-1, random_state=42)\n",
    "rfc.fit(X_train2, y_train2)\n",
    "rfc_pred_y = rfc.predict(X_test2)\n",
    "\n",
    "cm = sklearn.metrics.confusion_matrix(y_test2, rfc_pred_y)\n",
    "tn, fp, fn, tp = cm.ravel()\n",
    "print('   A1\\tA0\\nP1[{}\\t{}\\t]\\nP0[{}\\t{}\\t]'.format(tp, fp, fn, tn), end='\\n\\n')\n",
    "print(f'precision: {tp/(tp+fp)}')\n",
    "print(f'recall: {tp/(tp+fn)}')\n",
    "print(f'log loss: {sklearn.metrics.log_loss(y_test2, rfc.predict_proba(X_test2))}')\n",
    "print(f'type1 error: {fp}')"
   ]
  },
  {
   "cell_type": "code",
   "execution_count": 12,
   "metadata": {},
   "outputs": [
    {
     "data": {
      "text/html": [
       "<div>\n",
       "<style scoped>\n",
       "    .dataframe tbody tr th:only-of-type {\n",
       "        vertical-align: middle;\n",
       "    }\n",
       "\n",
       "    .dataframe tbody tr th {\n",
       "        vertical-align: top;\n",
       "    }\n",
       "\n",
       "    .dataframe thead th {\n",
       "        text-align: right;\n",
       "    }\n",
       "</style>\n",
       "<table border=\"1\" class=\"dataframe\">\n",
       "  <thead>\n",
       "    <tr style=\"text-align: right;\">\n",
       "      <th></th>\n",
       "      <th>Feature</th>\n",
       "      <th>Importance</th>\n",
       "    </tr>\n",
       "  </thead>\n",
       "  <tbody>\n",
       "    <tr>\n",
       "      <th>2</th>\n",
       "      <td>Fare</td>\n",
       "      <td>0.273453</td>\n",
       "    </tr>\n",
       "    <tr>\n",
       "      <th>1</th>\n",
       "      <td>Age</td>\n",
       "      <td>0.267454</td>\n",
       "    </tr>\n",
       "    <tr>\n",
       "      <th>7</th>\n",
       "      <td>Sex_male</td>\n",
       "      <td>0.222719</td>\n",
       "    </tr>\n",
       "    <tr>\n",
       "      <th>9</th>\n",
       "      <td>Pclass_3</td>\n",
       "      <td>0.053096</td>\n",
       "    </tr>\n",
       "    <tr>\n",
       "      <th>3</th>\n",
       "      <td>SibSp</td>\n",
       "      <td>0.050201</td>\n",
       "    </tr>\n",
       "    <tr>\n",
       "      <th>0</th>\n",
       "      <td>no_cabin</td>\n",
       "      <td>0.038404</td>\n",
       "    </tr>\n",
       "    <tr>\n",
       "      <th>4</th>\n",
       "      <td>Parch</td>\n",
       "      <td>0.037433</td>\n",
       "    </tr>\n",
       "    <tr>\n",
       "      <th>6</th>\n",
       "      <td>Embarked_S</td>\n",
       "      <td>0.025851</td>\n",
       "    </tr>\n",
       "    <tr>\n",
       "      <th>8</th>\n",
       "      <td>Pclass_2</td>\n",
       "      <td>0.020200</td>\n",
       "    </tr>\n",
       "    <tr>\n",
       "      <th>5</th>\n",
       "      <td>Embarked_Q</td>\n",
       "      <td>0.011189</td>\n",
       "    </tr>\n",
       "  </tbody>\n",
       "</table>\n",
       "</div>"
      ],
      "text/plain": [
       "      Feature  Importance\n",
       "2        Fare    0.273453\n",
       "1         Age    0.267454\n",
       "7    Sex_male    0.222719\n",
       "9    Pclass_3    0.053096\n",
       "3       SibSp    0.050201\n",
       "0    no_cabin    0.038404\n",
       "4       Parch    0.037433\n",
       "6  Embarked_S    0.025851\n",
       "8    Pclass_2    0.020200\n",
       "5  Embarked_Q    0.011189"
      ]
     },
     "execution_count": 12,
     "metadata": {},
     "output_type": "execute_result"
    }
   ],
   "source": [
    "important_features2 = pd.DataFrame(zip(cols2, rfc.feature_importances_), columns=['Feature', 'Importance']).sort_values(by='Importance', ascending=False)\n",
    "important_features2"
   ]
  },
  {
   "cell_type": "markdown",
   "metadata": {},
   "source": [
    "## What About a Different Algorithm?\n",
    "# LOGISTIC REGRESSION"
   ]
  },
  {
   "cell_type": "code",
   "execution_count": 13,
   "metadata": {},
   "outputs": [],
   "source": [
    "def sigmoid(x):\n",
    "    return 1 / (1 + np.exp(-x))"
   ]
  },
  {
   "cell_type": "code",
   "execution_count": 14,
   "metadata": {},
   "outputs": [
    {
     "data": {
      "image/png": "[encoded data removed]",
      "text/plain": [
       "<Figure size 576x360 with 1 Axes>"
      ]
     },
     "metadata": {
      "needs_background": "light"
     },
     "output_type": "display_data"
    }
   ],
   "source": [
    "fig, ax = plt.subplots(figsize=(8,5))\n",
    "pltx = np.arange(-10,10,.01)\n",
    "plty = list(map(sigmoid, pltx))\n",
    "plt.scatter(pltx, plty, s=1)\n",
    "plt.show()"
   ]
  },
  {
   "cell_type": "code",
   "execution_count": 15,
   "metadata": {},
   "outputs": [],
   "source": [
    "from sklearn.linear_model import LogisticRegression\n",
    "from sklearn.model_selection import GridSearchCV"
   ]
  },
  {
   "cell_type": "code",
   "execution_count": 16,
   "metadata": {},
   "outputs": [
    {
     "data": {
      "text/plain": [
       "LogisticRegression(C=0.6049, class_weight=None, dual=False, fit_intercept=True,\n",
       "                   intercept_scaling=1, l1_ratio=None, max_iter=100,\n",
       "                   multi_class='warn', n_jobs=None, penalty='l1',\n",
       "                   random_state=None, solver='liblinear', tol=0.0001, verbose=0,\n",
       "                   warm_start=False)"
      ]
     },
     "execution_count": 16,
     "metadata": {},
     "output_type": "execute_result"
    }
   ],
   "source": [
    "lr = LogisticRegression()\n",
    "parameters = {'penalty':['l1'], 'C':np.linspace(1e-1, 1e1, num=1001), 'solver':['liblinear']}\n",
    "clf = GridSearchCV(lr, parameters, scoring=\"neg_log_loss\", cv=5, n_jobs=-1)\n",
    "clf.fit(X_train2, y_train2)\n",
    "clf.best_estimator_"
   ]
  },
  {
   "cell_type": "code",
   "execution_count": 17,
   "metadata": {},
   "outputs": [
    {
     "name": "stdout",
     "output_type": "stream",
     "text": [
      "   A1\tA0\n",
      "P1[65\t19\t]\n",
      "P0[24\t115\t]\n",
      "\n",
      "precision: 0.7738095238095238\n",
      "recall: 0.7303370786516854\n",
      "log loss: 0.4259862553094603\n",
      "type1 error: 19\n"
     ]
    }
   ],
   "source": [
    "lr_pred_y = clf.predict(X_test2)\n",
    "\n",
    "cm = sklearn.metrics.confusion_matrix(y_test2, lr_pred_y)\n",
    "tn, fp, fn, tp = cm.ravel()\n",
    "print('   A1\\tA0\\nP1[{}\\t{}\\t]\\nP0[{}\\t{}\\t]'.format(tp, fp, fn, tn), end='\\n\\n')\n",
    "print(f'precision: {tp/(tp+fp)}')\n",
    "print(f'recall: {tp/(tp+fn)}')\n",
    "print(f'log loss: {sklearn.metrics.log_loss(y_test2, clf.predict_proba(X_test2))}')\n",
    "print(f'type1 error: {fp}')"
   ]
  },
  {
   "cell_type": "code",
   "execution_count": 18,
   "metadata": {},
   "outputs": [
    {
     "data": {
      "text/html": [
       "<div>\n",
       "<style scoped>\n",
       "    .dataframe tbody tr th:only-of-type {\n",
       "        vertical-align: middle;\n",
       "    }\n",
       "\n",
       "    .dataframe tbody tr th {\n",
       "        vertical-align: top;\n",
       "    }\n",
       "\n",
       "    .dataframe thead th {\n",
       "        text-align: right;\n",
       "    }\n",
       "</style>\n",
       "<table border=\"1\" class=\"dataframe\">\n",
       "  <thead>\n",
       "    <tr style=\"text-align: right;\">\n",
       "      <th></th>\n",
       "      <th>Feature</th>\n",
       "      <th>Coef</th>\n",
       "    </tr>\n",
       "  </thead>\n",
       "  <tbody>\n",
       "    <tr>\n",
       "      <th>7</th>\n",
       "      <td>Pclass_2</td>\n",
       "      <td>-1.232474</td>\n",
       "    </tr>\n",
       "    <tr>\n",
       "      <th>0</th>\n",
       "      <td>no_cabin</td>\n",
       "      <td>-0.454282</td>\n",
       "    </tr>\n",
       "    <tr>\n",
       "      <th>1</th>\n",
       "      <td>zero_fare</td>\n",
       "      <td>-0.389829</td>\n",
       "    </tr>\n",
       "    <tr>\n",
       "      <th>3</th>\n",
       "      <td>Fare</td>\n",
       "      <td>-0.360105</td>\n",
       "    </tr>\n",
       "    <tr>\n",
       "      <th>9</th>\n",
       "      <td>SibSp_2_3</td>\n",
       "      <td>-0.290985</td>\n",
       "    </tr>\n",
       "    <tr>\n",
       "      <th>6</th>\n",
       "      <td>Sex_male</td>\n",
       "      <td>-0.207279</td>\n",
       "    </tr>\n",
       "    <tr>\n",
       "      <th>4</th>\n",
       "      <td>Embarked_Q</td>\n",
       "      <td>-0.169385</td>\n",
       "    </tr>\n",
       "    <tr>\n",
       "      <th>5</th>\n",
       "      <td>Embarked_S</td>\n",
       "      <td>-0.012405</td>\n",
       "    </tr>\n",
       "    <tr>\n",
       "      <th>8</th>\n",
       "      <td>Pclass_3</td>\n",
       "      <td>0.201790</td>\n",
       "    </tr>\n",
       "    <tr>\n",
       "      <th>2</th>\n",
       "      <td>Age</td>\n",
       "      <td>0.359532</td>\n",
       "    </tr>\n",
       "  </tbody>\n",
       "</table>\n",
       "</div>"
      ],
      "text/plain": [
       "      Feature      Coef\n",
       "7    Pclass_2 -1.232474\n",
       "0    no_cabin -0.454282\n",
       "1   zero_fare -0.389829\n",
       "3        Fare -0.360105\n",
       "9   SibSp_2_3 -0.290985\n",
       "6    Sex_male -0.207279\n",
       "4  Embarked_Q -0.169385\n",
       "5  Embarked_S -0.012405\n",
       "8    Pclass_3  0.201790\n",
       "2         Age  0.359532"
      ]
     },
     "execution_count": 18,
     "metadata": {},
     "output_type": "execute_result"
    }
   ],
   "source": [
    "pd.DataFrame(zip(cols, clf.best_estimator_.coef_[0]), columns=['Feature', 'Coef']).sort_values(by='Coef')"
   ]
  },
  {
   "cell_type": "markdown",
   "metadata": {},
   "source": [
    "# How does Logit Perform against the original data set?\n",
    "# Does it agree about the \"feature importances\" ?"
   ]
  },
  {
   "cell_type": "code",
   "execution_count": 21,
   "metadata": {},
   "outputs": [
    {
     "name": "stdout",
     "output_type": "stream",
     "text": [
      "LogisticRegression(C=0.2782, class_weight=None, dual=False, fit_intercept=True,\n",
      "                   intercept_scaling=1, l1_ratio=None, max_iter=100,\n",
      "                   multi_class='warn', n_jobs=None, penalty='l1',\n",
      "                   random_state=None, solver='liblinear', tol=0.0001, verbose=0,\n",
      "                   warm_start=False)\n",
      "---------------------------------------------------------------------------\n",
      "   A1\tA0\n",
      "P1[64\t19\t]\n",
      "P0[25\t115\t]\n",
      "\n",
      "precision: 0.7710843373493976\n",
      "recall: 0.7191011235955056\n",
      "log loss: 0.4273443390815332\n",
      "type1 error: 19\n",
      "---------------------------------------------------------------------------\n"
     ]
    },
    {
     "data": {
      "text/html": [
       "<div>\n",
       "<style scoped>\n",
       "    .dataframe tbody tr th:only-of-type {\n",
       "        vertical-align: middle;\n",
       "    }\n",
       "\n",
       "    .dataframe tbody tr th {\n",
       "        vertical-align: top;\n",
       "    }\n",
       "\n",
       "    .dataframe thead th {\n",
       "        text-align: right;\n",
       "    }\n",
       "</style>\n",
       "<table border=\"1\" class=\"dataframe\">\n",
       "  <thead>\n",
       "    <tr style=\"text-align: right;\">\n",
       "      <th></th>\n",
       "      <th>LR_Coef</th>\n",
       "      <th>RFC_Importance</th>\n",
       "    </tr>\n",
       "    <tr>\n",
       "      <th>Feature</th>\n",
       "      <th></th>\n",
       "      <th></th>\n",
       "    </tr>\n",
       "  </thead>\n",
       "  <tbody>\n",
       "    <tr>\n",
       "      <th>Age</th>\n",
       "      <td>-0.322652</td>\n",
       "      <td>0.289975</td>\n",
       "    </tr>\n",
       "    <tr>\n",
       "      <th>Fare</th>\n",
       "      <td>0.138579</td>\n",
       "      <td>0.281213</td>\n",
       "    </tr>\n",
       "    <tr>\n",
       "      <th>Sex_male</th>\n",
       "      <td>-1.187901</td>\n",
       "      <td>0.227221</td>\n",
       "    </tr>\n",
       "    <tr>\n",
       "      <th>Pclass_3</th>\n",
       "      <td>-0.449948</td>\n",
       "      <td>0.053032</td>\n",
       "    </tr>\n",
       "    <tr>\n",
       "      <th>no_cabin</th>\n",
       "      <td>-0.380192</td>\n",
       "      <td>0.038697</td>\n",
       "    </tr>\n",
       "    <tr>\n",
       "      <th>Embarked_S</th>\n",
       "      <td>-0.182496</td>\n",
       "      <td>0.023610</td>\n",
       "    </tr>\n",
       "    <tr>\n",
       "      <th>Pclass_2</th>\n",
       "      <td>0.047795</td>\n",
       "      <td>0.020134</td>\n",
       "    </tr>\n",
       "    <tr>\n",
       "      <th>Parch_2_3</th>\n",
       "      <td>-0.049090</td>\n",
       "      <td>0.017678</td>\n",
       "    </tr>\n",
       "    <tr>\n",
       "      <th>SibSp_2_3</th>\n",
       "      <td>-0.121430</td>\n",
       "      <td>0.013353</td>\n",
       "    </tr>\n",
       "    <tr>\n",
       "      <th>SibSp_4+</th>\n",
       "      <td>-0.228638</td>\n",
       "      <td>0.011790</td>\n",
       "    </tr>\n",
       "    <tr>\n",
       "      <th>Embarked_Q</th>\n",
       "      <td>0.000000</td>\n",
       "      <td>0.010406</td>\n",
       "    </tr>\n",
       "    <tr>\n",
       "      <th>zero_fare</th>\n",
       "      <td>-0.133426</td>\n",
       "      <td>0.007321</td>\n",
       "    </tr>\n",
       "    <tr>\n",
       "      <th>Parch_4+</th>\n",
       "      <td>-0.284334</td>\n",
       "      <td>0.005571</td>\n",
       "    </tr>\n",
       "  </tbody>\n",
       "</table>\n",
       "</div>"
      ],
      "text/plain": [
       "             LR_Coef  RFC_Importance\n",
       "Feature                             \n",
       "Age        -0.322652        0.289975\n",
       "Fare        0.138579        0.281213\n",
       "Sex_male   -1.187901        0.227221\n",
       "Pclass_3   -0.449948        0.053032\n",
       "no_cabin   -0.380192        0.038697\n",
       "Embarked_S -0.182496        0.023610\n",
       "Pclass_2    0.047795        0.020134\n",
       "Parch_2_3  -0.049090        0.017678\n",
       "SibSp_2_3  -0.121430        0.013353\n",
       "SibSp_4+   -0.228638        0.011790\n",
       "Embarked_Q  0.000000        0.010406\n",
       "zero_fare  -0.133426        0.007321\n",
       "Parch_4+   -0.284334        0.005571"
      ]
     },
     "execution_count": 21,
     "metadata": {},
     "output_type": "execute_result"
    }
   ],
   "source": [
    "lr2 = LogisticRegression()\n",
    "parameters2 = {'penalty':['l1'], 'C':np.linspace(1e-1, 1e1, num=1001), 'solver':['liblinear']}\n",
    "clf2 = GridSearchCV(lr2, parameters2, scoring=\"neg_log_loss\", cv=5, n_jobs=-1)\n",
    "clf2.fit(X_train, y_train)\n",
    "print(clf2.best_estimator_)\n",
    "print('-'*75)\n",
    "lr2_pred_y = clf2.predict(X_test)\n",
    "cm = sklearn.metrics.confusion_matrix(y_test, lr2_pred_y)\n",
    "tn, fp, fn, tp = cm.ravel()\n",
    "print('   A1\\tA0\\nP1[{}\\t{}\\t]\\nP0[{}\\t{}\\t]'.format(tp, fp, fn, tn), end='\\n\\n')\n",
    "print(f'precision: {tp/(tp+fp)}')\n",
    "print(f'recall: {tp/(tp+fn)}')\n",
    "print(f'log loss: {sklearn.metrics.log_loss(y_test, clf2.predict_proba(X_test))}')\n",
    "print(f'type1 error: {fp}')\n",
    "print('-'*75)\n",
    "lr_coefs = pd.DataFrame(zip(cols, clf2.best_estimator_.coef_[0]), columns=['Feature', 'Coef']).sort_values(by='Coef').set_index('Feature')\n",
    "features = lr_coefs.join(important_features.set_index('Feature')).rename(columns={\"Importance\": \"RFC_Importance\", \"Coef\":\"LR_Coef\"})\n",
    "features.sort_values(by='RFC_Importance', ascending=False)"
   ]
  },
  {
   "cell_type": "code",
   "execution_count": 23,
   "metadata": {},
   "outputs": [
    {
     "data": {
      "text/html": [
       "<div>\n",
       "<style scoped>\n",
       "    .dataframe tbody tr th:only-of-type {\n",
       "        vertical-align: middle;\n",
       "    }\n",
       "\n",
       "    .dataframe tbody tr th {\n",
       "        vertical-align: top;\n",
       "    }\n",
       "\n",
       "    .dataframe thead th {\n",
       "        text-align: right;\n",
       "    }\n",
       "</style>\n",
       "<table border=\"1\" class=\"dataframe\">\n",
       "  <thead>\n",
       "    <tr style=\"text-align: right;\">\n",
       "      <th></th>\n",
       "      <th>LR_Coef</th>\n",
       "      <th>RFC_Importance</th>\n",
       "    </tr>\n",
       "    <tr>\n",
       "      <th>Feature</th>\n",
       "      <th></th>\n",
       "      <th></th>\n",
       "    </tr>\n",
       "  </thead>\n",
       "  <tbody>\n",
       "    <tr>\n",
       "      <th>Sex_male</th>\n",
       "      <td>-1.187901</td>\n",
       "      <td>0.227221</td>\n",
       "    </tr>\n",
       "    <tr>\n",
       "      <th>Pclass_3</th>\n",
       "      <td>-0.449948</td>\n",
       "      <td>0.053032</td>\n",
       "    </tr>\n",
       "    <tr>\n",
       "      <th>no_cabin</th>\n",
       "      <td>-0.380192</td>\n",
       "      <td>0.038697</td>\n",
       "    </tr>\n",
       "    <tr>\n",
       "      <th>Age</th>\n",
       "      <td>-0.322652</td>\n",
       "      <td>0.289975</td>\n",
       "    </tr>\n",
       "    <tr>\n",
       "      <th>Parch_4+</th>\n",
       "      <td>-0.284334</td>\n",
       "      <td>0.005571</td>\n",
       "    </tr>\n",
       "    <tr>\n",
       "      <th>SibSp_4+</th>\n",
       "      <td>-0.228638</td>\n",
       "      <td>0.011790</td>\n",
       "    </tr>\n",
       "    <tr>\n",
       "      <th>Embarked_S</th>\n",
       "      <td>-0.182496</td>\n",
       "      <td>0.023610</td>\n",
       "    </tr>\n",
       "    <tr>\n",
       "      <th>Fare</th>\n",
       "      <td>0.138579</td>\n",
       "      <td>0.281213</td>\n",
       "    </tr>\n",
       "    <tr>\n",
       "      <th>zero_fare</th>\n",
       "      <td>-0.133426</td>\n",
       "      <td>0.007321</td>\n",
       "    </tr>\n",
       "    <tr>\n",
       "      <th>SibSp_2_3</th>\n",
       "      <td>-0.121430</td>\n",
       "      <td>0.013353</td>\n",
       "    </tr>\n",
       "    <tr>\n",
       "      <th>Parch_2_3</th>\n",
       "      <td>-0.049090</td>\n",
       "      <td>0.017678</td>\n",
       "    </tr>\n",
       "    <tr>\n",
       "      <th>Pclass_2</th>\n",
       "      <td>0.047795</td>\n",
       "      <td>0.020134</td>\n",
       "    </tr>\n",
       "    <tr>\n",
       "      <th>Embarked_Q</th>\n",
       "      <td>0.000000</td>\n",
       "      <td>0.010406</td>\n",
       "    </tr>\n",
       "  </tbody>\n",
       "</table>\n",
       "</div>"
      ],
      "text/plain": [
       "             LR_Coef  RFC_Importance\n",
       "Feature                             \n",
       "Sex_male   -1.187901        0.227221\n",
       "Pclass_3   -0.449948        0.053032\n",
       "no_cabin   -0.380192        0.038697\n",
       "Age        -0.322652        0.289975\n",
       "Parch_4+   -0.284334        0.005571\n",
       "SibSp_4+   -0.228638        0.011790\n",
       "Embarked_S -0.182496        0.023610\n",
       "Fare        0.138579        0.281213\n",
       "zero_fare  -0.133426        0.007321\n",
       "SibSp_2_3  -0.121430        0.013353\n",
       "Parch_2_3  -0.049090        0.017678\n",
       "Pclass_2    0.047795        0.020134\n",
       "Embarked_Q  0.000000        0.010406"
      ]
     },
     "execution_count": 23,
     "metadata": {},
     "output_type": "execute_result"
    }
   ],
   "source": [
    "features.iloc[(-features.LR_Coef.abs()).argsort()]"
   ]
  },
  {
   "cell_type": "markdown",
   "metadata": {},
   "source": [
    "# Why:\n",
    "\n",
    "- L1 Regularization (vs L2)\n",
    "- Difference in Algorithms"
   ]
  }
 ],
 "metadata": {
  "kernelspec": {
   "display_name": "Python 3",
   "language": "python",
   "name": "python3"
  },
  "language_info": {
   "codemirror_mode": {
    "name": "ipython",
    "version": 3
   },
   "file_extension": ".py",
   "mimetype": "text/x-python",
   "name": "python",
   "nbconvert_exporter": "python",
   "pygments_lexer": "ipython3",
   "version": "3.6.8"
  }
 },
 "nbformat": 4,
 "nbformat_minor": 2
}
